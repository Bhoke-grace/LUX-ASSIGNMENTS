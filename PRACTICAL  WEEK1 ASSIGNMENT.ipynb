{
 "cells": [
  {
   "cell_type": "code",
   "execution_count": 1,
   "metadata": {},
   "outputs": [],
   "source": [
    "import pandas as pd"
   ]
  },
  {
   "cell_type": "code",
   "execution_count": null,
   "metadata": {},
   "outputs": [],
   "source": []
  },
  {
   "cell_type": "code",
   "execution_count": 2,
   "metadata": {},
   "outputs": [
    {
     "data": {
      "text/html": [
       "<div>\n",
       "<style scoped>\n",
       "    .dataframe tbody tr th:only-of-type {\n",
       "        vertical-align: middle;\n",
       "    }\n",
       "\n",
       "    .dataframe tbody tr th {\n",
       "        vertical-align: top;\n",
       "    }\n",
       "\n",
       "    .dataframe thead th {\n",
       "        text-align: right;\n",
       "    }\n",
       "</style>\n",
       "<table border=\"1\" class=\"dataframe\">\n",
       "  <thead>\n",
       "    <tr style=\"text-align: right;\">\n",
       "      <th></th>\n",
       "      <th>ÿid</th>\n",
       "      <th>Gender</th>\n",
       "      <th>Customer_Date_of_Birth</th>\n",
       "      <th>Driving_License</th>\n",
       "      <th>Customer_Residence_Sub_County</th>\n",
       "      <th>Previously_Insured</th>\n",
       "      <th>Vehicle_Year_of_Manufacture</th>\n",
       "      <th>Vehicle_Damage</th>\n",
       "      <th>Annual_Premium</th>\n",
       "      <th>Agent_name</th>\n",
       "      <th>Life_policy_start_date</th>\n",
       "      <th>Response</th>\n",
       "    </tr>\n",
       "  </thead>\n",
       "  <tbody>\n",
       "    <tr>\n",
       "      <th>0</th>\n",
       "      <td>549771831</td>\n",
       "      <td>Male</td>\n",
       "      <td>Monday, March 7, 1977</td>\n",
       "      <td>1</td>\n",
       "      <td>EMBAKASI</td>\n",
       "      <td>0</td>\n",
       "      <td>2020</td>\n",
       "      <td>Yes</td>\n",
       "      <td>38294</td>\n",
       "      <td>Jomo Kenyatta</td>\n",
       "      <td>Thursday, December 21, 2023</td>\n",
       "      <td>1</td>\n",
       "    </tr>\n",
       "    <tr>\n",
       "      <th>1</th>\n",
       "      <td>373583351</td>\n",
       "      <td>Male</td>\n",
       "      <td>Sunday, December 29, 2002</td>\n",
       "      <td>1</td>\n",
       "      <td>WESTLANDS</td>\n",
       "      <td>1</td>\n",
       "      <td>2020</td>\n",
       "      <td>No</td>\n",
       "      <td>28619</td>\n",
       "      <td>Obiero Ochieng</td>\n",
       "      <td>Wednesday, June 28, 2023</td>\n",
       "      <td>0</td>\n",
       "    </tr>\n",
       "    <tr>\n",
       "      <th>2</th>\n",
       "      <td>933163655</td>\n",
       "      <td>Female</td>\n",
       "      <td>Tuesday, August 23, 1994</td>\n",
       "      <td>1</td>\n",
       "      <td>DAGORETTI</td>\n",
       "      <td>1</td>\n",
       "      <td>2011</td>\n",
       "      <td>No</td>\n",
       "      <td>27496</td>\n",
       "      <td>Obiero Ochieng</td>\n",
       "      <td>Saturday, December 9, 2023</td>\n",
       "      <td>0</td>\n",
       "    </tr>\n",
       "    <tr>\n",
       "      <th>3</th>\n",
       "      <td>698942186</td>\n",
       "      <td>Female</td>\n",
       "      <td>Thursday, November 18, 1999</td>\n",
       "      <td>1</td>\n",
       "      <td>JUJA</td>\n",
       "      <td>0</td>\n",
       "      <td>2020</td>\n",
       "      <td>Yes</td>\n",
       "      <td>2630</td>\n",
       "      <td>Gitonga Mwangi</td>\n",
       "      <td>Tuesday, July 25, 2023</td>\n",
       "      <td>0</td>\n",
       "    </tr>\n",
       "    <tr>\n",
       "      <th>4</th>\n",
       "      <td>515109822</td>\n",
       "      <td>Male</td>\n",
       "      <td>Thursday, February 22, 2001</td>\n",
       "      <td>1</td>\n",
       "      <td>WESTLANDS</td>\n",
       "      <td>0</td>\n",
       "      <td>2015</td>\n",
       "      <td>Yes</td>\n",
       "      <td>23367</td>\n",
       "      <td>Obiero Ochieng</td>\n",
       "      <td>Saturday, May 13, 2023</td>\n",
       "      <td>0</td>\n",
       "    </tr>\n",
       "  </tbody>\n",
       "</table>\n",
       "</div>"
      ],
      "text/plain": [
       "         ÿid  Gender       Customer_Date_of_Birth  Driving_License  \\\n",
       "0  549771831    Male        Monday, March 7, 1977                1   \n",
       "1  373583351    Male    Sunday, December 29, 2002                1   \n",
       "2  933163655  Female     Tuesday, August 23, 1994                1   \n",
       "3  698942186  Female  Thursday, November 18, 1999                1   \n",
       "4  515109822    Male  Thursday, February 22, 2001                1   \n",
       "\n",
       "  Customer_Residence_Sub_County  Previously_Insured  \\\n",
       "0                      EMBAKASI                   0   \n",
       "1                     WESTLANDS                   1   \n",
       "2                     DAGORETTI                   1   \n",
       "3                          JUJA                   0   \n",
       "4                     WESTLANDS                   0   \n",
       "\n",
       "   Vehicle_Year_of_Manufacture Vehicle_Damage  Annual_Premium      Agent_name  \\\n",
       "0                         2020            Yes           38294   Jomo Kenyatta   \n",
       "1                         2020             No           28619  Obiero Ochieng   \n",
       "2                         2011             No           27496  Obiero Ochieng   \n",
       "3                         2020            Yes            2630  Gitonga Mwangi   \n",
       "4                         2015            Yes           23367  Obiero Ochieng   \n",
       "\n",
       "        Life_policy_start_date  Response  \n",
       "0  Thursday, December 21, 2023         1  \n",
       "1     Wednesday, June 28, 2023         0  \n",
       "2   Saturday, December 9, 2023         0  \n",
       "3       Tuesday, July 25, 2023         0  \n",
       "4       Saturday, May 13, 2023         0  "
      ]
     },
     "execution_count": 2,
     "metadata": {},
     "output_type": "execute_result"
    }
   ],
   "source": [
    "df = pd.read_csv(r'C:\\Users\\User\\Desktop\\DATA SCIENCE FINALYYYY\\PYTHON\\train_data_cross-sell.csv', encoding= \"latin1\")\n",
    "df.head()\n"
   ]
  },
  {
   "cell_type": "code",
   "execution_count": 6,
   "metadata": {},
   "outputs": [
    {
     "name": "stdout",
     "output_type": "stream",
     "text": [
      "Original DataFrame:\n",
      "              ÿid  Gender       Customer_Date_of_Birth  Driving_License  \\\n",
      "0       549771831    Male        Monday, March 7, 1977                1   \n",
      "1       373583351    Male    Sunday, December 29, 2002                1   \n",
      "2       933163655  Female     Tuesday, August 23, 1994                1   \n",
      "3       698942186  Female  Thursday, November 18, 1999                1   \n",
      "4       515109822    Male  Thursday, February 22, 2001                1   \n",
      "...           ...     ...                          ...              ...   \n",
      "324461  776020714    Male       Friday, April 29, 1977                1   \n",
      "324462  907356303    Male    Tuesday, November 8, 1949                1   \n",
      "324463  907433446    Male      Saturday, April 2, 1994                1   \n",
      "324464  882210005    Male    Monday, December 23, 2002                1   \n",
      "324465  215201423  Female    Monday, November 21, 1955                1   \n",
      "\n",
      "       Customer_Residence_Sub_County  Previously_Insured  \\\n",
      "0                           EMBAKASI                   0   \n",
      "1                          WESTLANDS                   1   \n",
      "2                          DAGORETTI                   1   \n",
      "3                               JUJA                   0   \n",
      "4                          WESTLANDS                   0   \n",
      "...                              ...                 ...   \n",
      "324461                       MALINDI                   0   \n",
      "324462                        NDHIWA                   1   \n",
      "324463                   NAROK NORTH                   1   \n",
      "324464                         RUIRU                   1   \n",
      "324465               TRANS MARA WEST                   0   \n",
      "\n",
      "        Vehicle_Year_of_Manufacture Vehicle_Damage  Annual_Premium  \\\n",
      "0                              2020            Yes           38294   \n",
      "1                              2020             No           28619   \n",
      "2                              2011             No           27496   \n",
      "3                              2020            Yes            2630   \n",
      "4                              2015            Yes           23367   \n",
      "...                             ...            ...             ...   \n",
      "324461                         2012            Yes           39831   \n",
      "324462                         2018             No           30170   \n",
      "324463                         2020             No           40016   \n",
      "324464                         2015             No           35118   \n",
      "324465                         2017            Yes           44617   \n",
      "\n",
      "             Agent_name       Life_policy_start_date  Response  \n",
      "0         Jomo Kenyatta  Thursday, December 21, 2023         1  \n",
      "1        Obiero Ochieng     Wednesday, June 28, 2023         0  \n",
      "2        Obiero Ochieng   Saturday, December 9, 2023         0  \n",
      "3        Gitonga Mwangi       Tuesday, July 25, 2023         0  \n",
      "4        Obiero Ochieng       Saturday, May 13, 2023         0  \n",
      "...                 ...                          ...       ...  \n",
      "324461    Jomo Kenyatta       Saturday, May 27, 2023         0  \n",
      "324462    Jomo Kenyatta   Saturday, October 21, 2023         0  \n",
      "324463   Obiero Ochieng    Friday, September 8, 2023         0  \n",
      "324464   Gitonga Mwangi    Wednesday, August 9, 2023         0  \n",
      "324465  Njoroge Karanja   Saturday, November 4, 2023         0  \n",
      "\n",
      "[324466 rows x 12 columns]\n",
      "\n",
      "Sorted DataFrame by 'Agent_name' column:\n",
      "              ÿid  Gender     Customer_Date_of_Birth  Driving_License  \\\n",
      "0       449000616    Male   Monday, February 9, 1959                1   \n",
      "1       558262559  Female        Monday, May 2, 1960                1   \n",
      "2       198161758    Male  Monday, November 28, 1955                1   \n",
      "3       551468643    Male    Wednesday, May 27, 1970                1   \n",
      "4       978939552    Male  Sunday, December 26, 1976                1   \n",
      "...           ...     ...                        ...              ...   \n",
      "324461  530807088  Female  Tuesday, January 23, 1979                1   \n",
      "324462  349931875  Female    Saturday, March 1, 1986                1   \n",
      "324463  576720094  Female  Monday, September 9, 1985                1   \n",
      "324464  760803848    Male    Monday, October 1, 1973                1   \n",
      "324465  347359018    Male  Saturday, January 9, 1965                1   \n",
      "\n",
      "       Customer_Residence_Sub_County  Previously_Insured  \\\n",
      "0                           KASARANI                   1   \n",
      "1                           KASARANI                   0   \n",
      "2                           KASARANI                   1   \n",
      "3                           KASARANI                   1   \n",
      "4                           KASARANI                   0   \n",
      "...                              ...                 ...   \n",
      "324461                      KASARANI                   1   \n",
      "324462                      KASARANI                   0   \n",
      "324463                        ISINYA                   0   \n",
      "324464                      KASARANI                   0   \n",
      "324465                   NAROK SOUTH                   1   \n",
      "\n",
      "        Vehicle_Year_of_Manufacture Vehicle_Damage  Annual_Premium  \\\n",
      "0                              2020             No           42256   \n",
      "1                              2017            Yes           29232   \n",
      "2                              2011             No           38089   \n",
      "3                              2020             No           19461   \n",
      "4                              2018            Yes           38758   \n",
      "...                             ...            ...             ...   \n",
      "324461                         2009             No            2630   \n",
      "324462                         2013            Yes           32271   \n",
      "324463                         2015            Yes            2630   \n",
      "324464                         2017            Yes            2630   \n",
      "324465                         2009             No           28265   \n",
      "\n",
      "              Agent_name        Life_policy_start_date  Response  \n",
      "0           Waweru Chege   Tuesday, September 12, 2023         0  \n",
      "1           Waweru Chege   Thursday, November 23, 2023         0  \n",
      "2           Waweru Chege  Wednesday, November 22, 2023         0  \n",
      "3           Waweru Chege    Tuesday, December 26, 2023         0  \n",
      "4           Waweru Chege          Monday, May 15, 2023         0  \n",
      "...                  ...                           ...       ...  \n",
      "324461  Akinyi Chepkorir       Saturday, April 8, 2023         0  \n",
      "324462  Akinyi Chepkorir   Tuesday, September 12, 2023         0  \n",
      "324463  Akinyi Chepkorir     Thursday, August 24, 2023         0  \n",
      "324464  Akinyi Chepkorir        Friday, August 4, 2023         0  \n",
      "324465  Achieng Kwamboka     Friday, November 10, 2023         0  \n",
      "\n",
      "[324466 rows x 12 columns]\n"
     ]
    }
   ],
   "source": [
    "# Sorting the DataFrame by the \"Name\" column in alphabetical order\n",
    "sorted_df = df.sort_values(by=\"Agent_name\", ascending=False)\n",
    "\n",
    "# Resetting the index for a clean look\n",
    "sorted_df = sorted_df.reset_index(drop=True)\n",
    "\n",
    "print(\"Original DataFrame:\")\n",
    "print(df)\n",
    "\n",
    "print(\"\\nSorted DataFrame by 'Agent_name' column:\")\n",
    "print(sorted_df)"
   ]
  },
  {
   "cell_type": "code",
   "execution_count": 19,
   "metadata": {},
   "outputs": [
    {
     "data": {
      "image/png": "[encoded data removed]",
      "text/plain": [
       "<Figure size 640x480 with 1 Axes>"
      ]
     },
     "metadata": {},
     "output_type": "display_data"
    }
   ],
   "source": [
    "import pandas as pd\n",
    "import matplotlib.pyplot as plt\n",
    "\n",
    "# Assuming 'data' is the DataFrame and 'Customer_Date_of_Birth' is the date of birth column\n",
    "df['Age'] = 2025 - pd.to_datetime(df['Customer_Date_of_Birth']).dt.year\n",
    "\n",
    "# Plot histogram\n",
    "plt.hist(df['Age'], bins=10, color='blue', edgecolor='black')\n",
    "plt.xlabel('Age')\n",
    "plt.ylabel('Frequency')\n",
    "plt.title('Histogram of Policyholder Ages')\n",
    "plt.show()"
   ]
  },
  {
   "cell_type": "code",
   "execution_count": 9,
   "metadata": {},
   "outputs": [
    {
     "name": "stdout",
     "output_type": "stream",
     "text": [
      "This car is a 2022 BMW X6.\n"
     ]
    }
   ],
   "source": [
    "class Car:\n",
    "    #Initializes the Car class with make, model, and year of manufacture.\n",
    "    def __init__(self, make, model, year):\n",
    "        self.make = make\n",
    "        self.model = model\n",
    "        self.year = year\n",
    "#Prints a description of the car with its attributes.\n",
    "    def describe(self):\n",
    "        return f\"This car is a {self.year} {self.make} {self.model}.\"\n",
    "\n",
    "# Example usage\n",
    "my_car = Car(\"BMW\", \"X6\", 2022)\n",
    "print(my_car.describe())"
   ]
  },
  {
   "cell_type": "code",
   "execution_count": null,
   "metadata": {},
   "outputs": [],
   "source": []
  },
  {
   "cell_type": "code",
   "execution_count": 3,
   "metadata": {},
   "outputs": [],
   "source": [
    "df.to_excel(r'newdata.xlsx',index=False)"
   ]
  },
  {
   "cell_type": "code",
   "execution_count": 4,
   "metadata": {},
   "outputs": [
    {
     "name": "stdout",
     "output_type": "stream",
     "text": [
      "['Jan', 'Feb', 'March', 'Apr', 'May']\n",
      "[\"HiJan, I'm so glad to be working with you\", \"HiFeb, I'm so glad to be working with you\", \"HiMarch, I'm so glad to be working with you\", \"HiApr, I'm so glad to be working with you\", \"HiMay, I'm so glad to be working with you\"]\n"
     ]
    }
   ],
   "source": [
    "new_employees=['Jan', 'Feb', 'March', 'Apr', 'May']\n",
    "print(new_employees)\n",
    "\n",
    "welcome_message=[]\n",
    "for new_employee in new_employees:\n",
    "    welcome_message.append('Hi' + new_employee.title()+ \", I'm so glad to be working with you\")\n",
    "def greet_employee():welcome_message\n",
    "print(welcome_message)\n"
   ]
  },
  {
   "cell_type": "code",
   "execution_count": null,
   "metadata": {},
   "outputs": [],
   "source": [
    "class Person:\n",
    "    #construstor\n",
    "    def __init__(self, name, age):\n",
    "        self.name=name\n",
    "        self.age=age\n",
    "\n",
    "    def display_info(self):\n",
    "        print(f\"My name is {self.name} and I am {self.age} years old\")\n",
    "\n",
    "#Example\n",
    "person1= Person('Bhoke', 21)\n",
    "print(person1.display_info())"
   ]
  },
  {
   "cell_type": "code",
   "execution_count": null,
   "metadata": {},
   "outputs": [],
   "source": [
    "person2= Person('Buckle', 6)\n",
    "print(person2.display_info())"
   ]
  },
  {
   "cell_type": "code",
   "execution_count": null,
   "metadata": {},
   "outputs": [],
   "source": [
    "class Dog:\n",
    "    #constructor\n",
    "    def __init__(self, name, age, color, breed, owner):\n",
    "        self.name= name\n",
    "        self.age= age\n",
    "        self.color= color\n",
    "        self.breed= breed\n",
    "        self.owner= owner\n",
    "\n",
    "    def bark(self):\n",
    "        return(f\" My name is {self.name} I am {self.age} years old, a {self.color} {self.breed} whose owner is {self.owner}\")\n",
    "    \n",
    "#example\n",
    "dog1= Dog('Buckle', 3, 'white', 'poodle', 'Jude')\n",
    "print (dog1.bark())\n"
   ]
  },
  {
   "cell_type": "code",
   "execution_count": null,
   "metadata": {},
   "outputs": [],
   "source": [
    "class Area_of_Rect:\n",
    "    def __init__(self, length, width):\n",
    "        self.length=length\n",
    "        self.width= width\n",
    "    def area(self):\n",
    "        return(self.length*self.width)\n",
    "\n",
    "#Example\n",
    "myrectangle=Area_of_Rect(28,20)\n",
    "print(myrectangle.area())"
   ]
  },
  {
   "cell_type": "code",
   "execution_count": null,
   "metadata": {},
   "outputs": [],
   "source": [
    "class Area_of_triangle:\n",
    "    def __init__(self, base, height):\n",
    "        self.base=base\n",
    "        self.height=height\n",
    "    def area(self):\n",
    "        print(1/2*self.base*self.height)\n",
    "\n",
    "#Example\n",
    "mytriangle=Area_of_triangle(28,20)\n",
    "print(mytriangle.area())"
   ]
  },
  {
   "cell_type": "code",
   "execution_count": 20,
   "metadata": {},
   "outputs": [
    {
     "name": "stdout",
     "output_type": "stream",
     "text": [
      "Absolute Deviation Mean: 5.0\n"
     ]
    }
   ],
   "source": [
    "# Function to calculate the absolute deviation mean\n",
    "def absolute_deviation_mean(data):\n",
    "    # Step 1: Calculate the mean\n",
    "    mean = sum(data) / len(data)\n",
    "    \n",
    "    # Step 2: Calculate the absolute deviations\n",
    "    absolute_deviations = []\n",
    "    for value in data:\n",
    "        absolute_deviations.append(abs(value - mean))\n",
    "    \n",
    "    # Step 3: Calculate the mean of the absolute deviations\n",
    "    abs_dev_mean = sum(absolute_deviations) / len(data)\n",
    "    return abs_dev_mean\n",
    "\n",
    "# Example usage\n",
    "my_list = [5, 10, 15, 20]\n",
    "result = absolute_deviation_mean(my_list)\n",
    "print(\"Absolute Deviation Mean:\", result)"
   ]
  },
  {
   "cell_type": "code",
   "execution_count": 21,
   "metadata": {},
   "outputs": [
    {
     "name": "stdout",
     "output_type": "stream",
     "text": [
      "25th Percentile: 10.0\n",
      "50th Percentile: 15.0\n",
      "75th Percentile: 20.0\n"
     ]
    }
   ],
   "source": [
    "def calculate_percentile(data, k):\n",
    "    # Step 1: Sort the list\n",
    "    data.sort()\n",
    "    N = len(data)\n",
    "    \n",
    "    # Step 2: Calculate the position\n",
    "    pos = (k / 100) * (N - 1)\n",
    "    lower_index = int(pos)  # Integer part (floor)\n",
    "    upper_index = lower_index + 1  # Next index\n",
    "    weight = pos - lower_index  # Fractional part\n",
    "\n",
    "    # Step 3: Interpolation to find the percentile value\n",
    "    if upper_index < N:\n",
    "        return data[lower_index] + weight * (data[upper_index] - data[lower_index])\n",
    "    else:\n",
    "        return data[lower_index]  # For exact positions at the end\n",
    "\n",
    "# Example\n",
    "my_list = [5, 15, 10, 20, 25]\n",
    "percentiles = [25, 50, 75]\n",
    "\n",
    "for p in percentiles:\n",
    "    print(f\"{p}th Percentile:\", calculate_percentile(my_list, p))\n"
   ]
  },
  {
   "cell_type": "code",
   "execution_count": null,
   "metadata": {},
   "outputs": [],
   "source": [
    "#Formula for Percentile Position:\n",
    "#Pk=k100⋅(N−1)+1P_k = \\frac{k}{100} \\cdot (N - 1) + 1Pk=100k⋅(N−1)+1\n",
    "#Where:\n",
    "#•\tk: Desired percentile (e.g., 25 for 25th percentile)\n",
    "#•\tN: Total number of elements in the list\n",
    "\n"
   ]
  }
 ],
 "metadata": {
  "kernelspec": {
   "display_name": "Python 3",
   "language": "python",
   "name": "python3"
  },
  "language_info": {
   "codemirror_mode": {
    "name": "ipython",
    "version": 3
   },
   "file_extension": ".py",
   "mimetype": "text/x-python",
   "name": "python",
   "nbconvert_exporter": "python",
   "pygments_lexer": "ipython3",
   "version": "3.12.8"
  }
 },
 "nbformat": 4,
 "nbformat_minor": 2
}
